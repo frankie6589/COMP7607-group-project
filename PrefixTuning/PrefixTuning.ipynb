{
  "cells": [
    {
      "cell_type": "code",
      "execution_count": null,
      "metadata": {
        "id": "nCg_6s_2Vxms"
      },
      "outputs": [],
      "source": [
        "# Mount data from drive\n",
        "from google.colab import drive\n",
        "drive.mount('/content/drive')\n",
        "%cd /content/drive/MyDrive/Colab_Notebooks/PrefixTuning-cleaned"
      ]
    },
    {
      "cell_type": "code",
      "execution_count": null,
      "metadata": {
        "id": "9f9NsXZ_cge0"
      },
      "outputs": [],
      "source": [
        "%cd /content/drive/MyDrive/Colab_Notebooks/PrefixTuning-cleaned/e2e-metrics"
      ]
    },
    {
      "cell_type": "code",
      "execution_count": null,
      "metadata": {
        "id": "nx0SLDxGdBhE"
      },
      "outputs": [],
      "source": [
        "!pip install -r requirements.txt"
      ]
    },
    {
      "cell_type": "code",
      "execution_count": null,
      "metadata": {
        "id": "Yq6hde6jdFNL"
      },
      "outputs": [],
      "source": [
        "!curl -L https://cpanmin.us | perl - App::cpanminus  # install cpanm\n",
        "!cpanm XML::Twig"
      ]
    },
    {
      "cell_type": "code",
      "execution_count": null,
      "metadata": {
        "id": "Wncr5qzPaguI"
      },
      "outputs": [],
      "source": [
        "%cd /content/drive/MyDrive/Colab_Notebooks/PrefixTuning-cleaned/transformers\n",
        "%pip install ."
      ]
    },
    {
      "cell_type": "code",
      "execution_count": null,
      "metadata": {
        "id": "8lVx1_4ucPFq"
      },
      "outputs": [],
      "source": [
        "%cd /content/drive/MyDrive/Colab_Notebooks/PrefixTuning-cleaned/gpt2"
      ]
    },
    {
      "cell_type": "markdown",
      "metadata": {
        "id": "RJZDE_yKnuBR"
      },
      "source": [
        "Default Setting"
      ]
    },
    {
      "cell_type": "code",
      "execution_count": null,
      "metadata": {
        "colab": {
          "background_save": true
        },
        "id": "Wy6BGN5LcbPl"
      },
      "outputs": [],
      "source": [
        "!python /content/drive/MyDrive/Colab_Notebooks/PrefixTuning-cleaned/gpt2/train_e2e.py"
      ]
    },
    {
      "cell_type": "markdown",
      "metadata": {
        "id": "DsKmjl1Anvyn"
      },
      "source": [
        "Epoch: 1 vs 5\n",
        "\n",
        "Batch size: 5 vs 10"
      ]
    },
    {
      "cell_type": "code",
      "execution_count": null,
      "metadata": {
        "id": "opHp_7qG0N-h"
      },
      "outputs": [],
      "source": [
        "!python train_e2e.py --optim_prefix yes --preseqlen 10 --epoch 1 --learning_rate 0.00005 --mode data2text --bsz 5 --seed 101"
      ]
    },
    {
      "cell_type": "markdown",
      "metadata": {
        "id": "C8v5waL0qXR5"
      },
      "source": [
        "Learning rate: 0.00003 vs 0.00005"
      ]
    },
    {
      "cell_type": "code",
      "execution_count": null,
      "metadata": {
        "id": "yJD7HpRAL0EL"
      },
      "outputs": [],
      "source": [
        "!python train_e2e.py --optim_prefix yes --preseqlen 10 --epoch 5 --learning_rate 0.00003 --mode data2text --bsz 10 --seed 101"
      ]
    },
    {
      "cell_type": "markdown",
      "metadata": {
        "id": "9e66l4aoL1Tv"
      },
      "source": [
        "Kaiming"
      ]
    },
    {
      "cell_type": "code",
      "execution_count": null,
      "metadata": {
        "id": "TuehOc0SwGDV"
      },
      "outputs": [],
      "source": [
        "!python train_e2e.py --optim_prefix yes --preseqlen 10 --epoch 1 --learning_rate 0.00003 --mode data2text --bsz 10 --seed 101 --init_shallow no --init_kaiming yes"
      ]
    },
    {
      "cell_type": "markdown",
      "metadata": {
        "id": "R1sFbnlzL7l1"
      },
      "source": [
        "Xavier"
      ]
    },
    {
      "cell_type": "code",
      "execution_count": null,
      "metadata": {
        "id": "BANWFW1EwA54"
      },
      "outputs": [],
      "source": [
        "!python train_e2e.py --optim_prefix yes --preseqlen 10 --epoch 1 --learning_rate 0.00005 --mode data2text --bsz 10 --seed 101 --init_shallow no --init_xavier yes"
      ]
    },
    {
      "cell_type": "markdown",
      "metadata": {
        "id": "AT5d_Nw2L-T5"
      },
      "source": [
        "Random"
      ]
    },
    {
      "cell_type": "code",
      "execution_count": null,
      "metadata": {
        "id": "NBqO8fCVZeGu"
      },
      "outputs": [],
      "source": [
        "!python train_e2e.py --optim_prefix yes --preseqlen 10 --epoch 1 --learning_rate 0.00005 --mode data2text --bsz 10 --seed 101 --init_random yes --init_shallow no"
      ]
    },
    {
      "cell_type": "markdown",
      "metadata": {
        "id": "kHBdU6WfMDTk"
      },
      "source": [
        "Shortcut to Run the measure_score.py"
      ]
    },
    {
      "cell_type": "code",
      "execution_count": null,
      "metadata": {
        "id": "846FcwKSw_la"
      },
      "outputs": [],
      "source": [
        "%cd /content/drive/MyDrive/Colab_Notebooks/PrefixTuning-cleaned/e2e-metrics/"
      ]
    },
    {
      "cell_type": "code",
      "execution_count": null,
      "metadata": {
        "id": "d4W4L9kAHzYD"
      },
      "outputs": [],
      "source": [
        "import os"
      ]
    },
    {
      "cell_type": "code",
      "execution_count": null,
      "metadata": {
        "id": "hLYaZQp2IJqO"
      },
      "outputs": [],
      "source": [
        "!python /content/drive/MyDrive/Colab_Notebooks/PrefixTuning-cleaned/e2e-metrics/measure_scores.py /content/drive/MyDrive/Colab_Notebooks/PrefixTuning-cleaned/gpt2/e2e_results_conv2/data2textprefixtune_y_10_act_cat_b=5-e=1_d=0.0_u=no_lr=5e-05_w=0.0_s=101_r=n_m=512_o=1_o=1_test_gold /content/drive/MyDrive/Colab_Notebooks/PrefixTuning-cleaned/gpt2/e2e_results_conv2/data2textprefixtune_y_10_act_cat_b=5-e=1_d=0.0_u=no_lr=5e-05_w=0.0_s=101_r=n_m=512_o=1_o=1_test_beam -p  -t -H >> /content/drive/MyDrive/Colab_Notebooks/PrefixTuning-cleaned/gpt2/e2e_results_conv2/data2textprefixtune_y_10_act_cat_b=5-e=1_d=0.0_u=no_lr=5e-05_w=0.0_s=101_r=n_m=512_o=1_o=1_test_beam_eval"
      ]
    },
    {
      "cell_type": "code",
      "execution_count": null,
      "metadata": {
        "id": "mywpSGIexPDV"
      },
      "outputs": [],
      "source": [
        "!python measure_scores.py"
      ]
    },
    {
      "cell_type": "markdown",
      "metadata": {
        "id": "Q61TUSLpMJLN"
      },
      "source": [
        "GPU Specs"
      ]
    },
    {
      "cell_type": "code",
      "execution_count": null,
      "metadata": {
        "id": "faWI2GYgyE-D"
      },
      "outputs": [],
      "source": [
        "!nvidia-smi"
      ]
    },
    {
      "cell_type": "markdown",
      "metadata": {
        "id": "7AkygROhMLTo"
      },
      "source": [
        "Python version"
      ]
    },
    {
      "cell_type": "code",
      "execution_count": null,
      "metadata": {
        "id": "L5FRK3FtNL_z"
      },
      "outputs": [],
      "source": [
        "!python --version"
      ]
    }
  ],
  "metadata": {
    "accelerator": "GPU",
    "colab": {
      "machine_shape": "hm",
      "provenance": []
    },
    "gpuClass": "premium",
    "kernelspec": {
      "display_name": "Python 3",
      "name": "python3"
    },
    "language_info": {
      "name": "python"
    }
  },
  "nbformat": 4,
  "nbformat_minor": 0
}